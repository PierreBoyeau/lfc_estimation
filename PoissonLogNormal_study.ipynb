{
 "cells": [
  {
   "cell_type": "code",
   "execution_count": 40,
   "metadata": {},
   "outputs": [],
   "source": [
    "import numpy as np\n",
    "import os\n",
    "import torch\n",
    "import pickle\n",
    "import matplotlib.pyplot as plt\n",
    "import plotly.graph_objs as go\n",
    "import plotly.express as px\n",
    "import plotly as py\n",
    "import pandas as pd\n",
    "from chart_studio.plotly import plot, iplot\n",
    "\n",
    "# from plotly.offline import init_notebook_mode, iplot\n",
    "from tqdm import tqdm_notebook\n",
    "\n",
    "from scvi.dataset import (\n",
    "    PowSimSynthetic,\n",
    "    LatentLogPoissonDataset,\n",
    "    SignedGamma,\n",
    "    GeneExpressionDataset,\n",
    ")\n",
    "from scvi.models import VAE, IAVAE\n",
    "from scvi.inference import UnsupervisedTrainer\n",
    "from scvi.utils import (\n",
    "    demultiply,\n",
    "    make_dir_if_necessary,\n",
    "    predict_de_genes,\n",
    "    save_fig,\n",
    "    load_pickle,\n",
    "    save_pickle,\n",
    "    has_lower_mean,\n",
    "    softmax,\n",
    "    compute_hdi\n",
    ")\n",
    "from scvi_utils import (\n",
    "    estimate_de_proba,\n",
    "    estimate_lfc_density,\n",
    "    estimate_lfc_mean,\n",
    "    multi_train_estimates,\n",
    "    train_model\n",
    ")\n",
    "from R_interop import all_predictions, all_de_predictions\n",
    "\n",
    "\n",
    "N_EPOCHS = 200\n",
    "DELTA = 0.5\n",
    "SIZES = [5, 10, 20, 30, 50, 100]\n",
    "SIZE = 100\n",
    "N_SIZES = len(SIZES)\n",
    "DO_CLOUD = True\n",
    "Q0 = 5e-2\n",
    "N_TRAININGS = 5\n",
    "N_PICKS = 10\n",
    "n_genes = 1000\n",
    "FREQUENCY = 1\n",
    "np.random.seed(42)\n",
    "torch.manual_seed(42)\n",
    "\n",
    "PATH_TO_SCRIPTS = \"/home/ubuntu/conquer_comparison/scripts\"\n",
    "DIR_PATH = \"lfc_estimates/lognormal2\"\n",
    "DF_PATH = \"/home/ubuntu/scVI/scvi/dataset/kolodziejczk_param.csv\"\n",
    "make_dir_if_necessary(DIR_PATH)"
   ]
  },
  {
   "cell_type": "markdown",
   "metadata": {},
   "source": [
    "# Generate Dataset"
   ]
  },
  {
   "cell_type": "markdown",
   "metadata": {},
   "source": [
    "## Constructing mu and sigma"
   ]
  },
  {
   "cell_type": "code",
   "execution_count": null,
   "metadata": {},
   "outputs": [],
   "source": [
    "selected = pd.read_csv(DF_PATH).sample(n_genes)\n",
    "means = selected[\"means\"].values\n",
    "\n",
    "means[means >= 1000] = 1000\n",
    "go.Figure([go.Histogram(x=means)]).show()\n",
    "\n",
    "lfc_sampler = SignedGamma(dim=2, proba_pos=0.5)\n",
    "lfcs = lfc_sampler.sample(n_genes).numpy()\n",
    "non_de_genes = np.random.choice(n_genes, size=300)\n",
    "lfcs[non_de_genes, :] = 0.0\n",
    "go.Figure([go.Histogram(x=lfcs[:, 0])]).show()\n",
    "\n",
    "log2_mu0 = lfcs[:, 0] + np.log2(means)\n",
    "log2_mu1 = lfcs[:, 1] + np.log2(means)\n",
    "\n",
    "loge_mu0 = log2_mu0 / np.log2(np.e)\n",
    "loge_mu1 = log2_mu1 / np.log2(np.e)"
   ]
  },
  {
   "cell_type": "code",
   "execution_count": 4,
   "metadata": {},
   "outputs": [],
   "source": [
    "a = (2.0 * np.random.random(size=(n_genes, 1)) - 1).astype(float)\n",
    "sigma = 2.0 * a.dot(a.T) + 0.5 * (\n",
    "    1.0 + 0.5 * (2.0 * np.random.random(n_genes) - 1.0)\n",
    ") * np.eye(n_genes)\n",
    "\n",
    "sigma0 = 0.1 * sigma\n",
    "sigma1 = sigma0\n",
    "\n",
    "# sigma1 = sigma\n",
    "\n",
    "# u, s, vh = np.linalg.svd(sigma)\n",
    "# perturbations = s.min() + (s.max() - s.min()) * np.random.random(len(s))\n",
    "# sigma1 = u @ (np.diag(perturbations)) @ vh"
   ]
  },
  {
   "cell_type": "code",
   "execution_count": 5,
   "metadata": {},
   "outputs": [],
   "source": [
    "h0 = torch.distributions.MultivariateNormal(\n",
    "    loc=torch.tensor(loge_mu0), covariance_matrix=torch.tensor(sigma0)\n",
    ").sample((5000,))\n",
    "h1 = torch.distributions.MultivariateNormal(\n",
    "    loc=torch.tensor(loge_mu1), covariance_matrix=torch.tensor(sigma1)\n",
    ").sample((5000,))\n",
    "\n",
    "h = torch.cat([h0, h1])"
   ]
  },
  {
   "cell_type": "code",
   "execution_count": null,
   "metadata": {},
   "outputs": [],
   "source": [
    "x_obs = torch.distributions.Poisson(rate=h.exp()).sample()\n",
    "# is_zi = np.random.random(x_obs.shape) >= 0.9\n",
    "is_zi = (np.random.random(x_obs.shape) <= np.exp(-0.5 * x_obs.numpy())) | (\n",
    "    np.random.random(x_obs.shape) <= 0.4\n",
    ")\n",
    "print(is_zi.mean())\n",
    "x_obs[is_zi] = 0.0\n",
    "labels = torch.zeros((10000, 1))\n",
    "labels[5000:] = 1\n",
    "\n",
    "not_null_cell = x_obs.sum(1) != 0\n",
    "x_obs = x_obs[not_null_cell]\n",
    "labels = labels[not_null_cell]\n",
    "\n",
    "trace1 = go.Histogram(x=x_obs.mean(0))\n",
    "fig = go.Figure(data=[trace1])\n",
    "fig.show()"
   ]
  },
  {
   "cell_type": "code",
   "execution_count": 7,
   "metadata": {},
   "outputs": [],
   "source": [
    "lfcs0 = lfcs.copy()"
   ]
  },
  {
   "cell_type": "code",
   "execution_count": 8,
   "metadata": {},
   "outputs": [],
   "source": [
    "# assert False\n",
    "dataset_path = os.path.join(DIR_PATH, \"dataset.pickle\")\n",
    "if not os.path.exists(dataset_path):\n",
    "    dataset = GeneExpressionDataset()\n",
    "    dataset.populate_from_data(X=x_obs.numpy(), labels=labels.numpy())\n",
    "    dataset.lfc = lfcs\n",
    "    save_pickle(data=dataset, filename=dataset_path)\n",
    "else:\n",
    "    dataset = load_pickle(dataset_path)\n",
    "    lfcs = dataset.lfc"
   ]
  },
  {
   "cell_type": "code",
   "execution_count": 9,
   "metadata": {},
   "outputs": [
    {
     "data": {
      "text/plain": [
       "array([[ True,  True],\n",
       "       [ True,  True],\n",
       "       [ True,  True],\n",
       "       ...,\n",
       "       [ True,  True],\n",
       "       [ True,  True],\n",
       "       [ True,  True]])"
      ]
     },
     "execution_count": 9,
     "metadata": {},
     "output_type": "execute_result"
    }
   ],
   "source": [
    "lfcs == lfcs0"
   ]
  },
  {
   "cell_type": "code",
   "execution_count": null,
   "metadata": {},
   "outputs": [],
   "source": [
    "h0_bis, h1_bis = demultiply(h0, h1, factor=6)\n",
    "lfc_orig = h0_bis.exp().log2() - h1_bis.exp().log2()\n",
    "lfc_gt = lfc_orig.mean(0)\n",
    "lfc_gt = lfc_gt.numpy()\n",
    "\n",
    "# is_significant_de = (np.abs(lfc_orig) >= DELTA).numpy().mean(0) >= 0.5\n",
    "is_significant_de = np.abs(lfcs[:, 0] - lfcs[:, 1]) >= DELTA\n",
    "n_genes = dataset.nb_genes\n",
    "trace1 = go.Histogram(x=lfcs[:, 1] - lfcs[:, 0])\n",
    "fig = go.Figure(data=[trace1])\n",
    "# save_fig(fig, filename=\"powsimR_properties\", do_cloud=DO_CLOUD)\n",
    "fig.show()"
   ]
  },
  {
   "cell_type": "code",
   "execution_count": 11,
   "metadata": {},
   "outputs": [],
   "source": [
    "n_examples = len(dataset)\n",
    "TEST_INDICES = np.random.permutation(n_examples)[:2000]\n",
    "\n",
    "x_test, y_test = dataset.X[TEST_INDICES, :], dataset.labels[TEST_INDICES, :].squeeze()\n",
    "data_path = os.path.join(DIR_PATH, \"data.npy\")\n",
    "labels_path = os.path.join(DIR_PATH, \"labels.npy\")\n",
    "means_path = os.path.join(DIR_PATH, \"means.npy\")\n",
    "\n",
    "np.save(data_path, x_test.squeeze().astype(int))\n",
    "np.save(means_path, h[TEST_INDICES].exp())\n",
    "np.savetxt(labels_path, y_test.squeeze())"
   ]
  },
  {
   "cell_type": "markdown",
   "metadata": {},
   "source": [
    "# Compute scVI-based results"
   ]
  },
  {
   "cell_type": "code",
   "execution_count": 12,
   "metadata": {},
   "outputs": [],
   "source": [
    "mdl_params = dict(\n",
    "    iaf=dict(n_hidden=128, n_layers=1, do_h=True, n_latent=10, t=4, dropout_rate=0.2),\n",
    "    mf=dict(n_hidden=128, n_layers=1, n_latent=10, dropout_rate=0.2),\n",
    ")\n",
    "\n",
    "train_params = dict(\n",
    "    iaf=dict(\n",
    "        ratio_loss=True,\n",
    "        test_indices=TEST_INDICES,\n",
    "    ),\n",
    "    mf=dict(\n",
    "        ratio_loss=True,\n",
    "        test_indices=TEST_INDICES,\n",
    "    ),\n",
    ")\n",
    "\n",
    "train_fn_params = dict(\n",
    "    iaf=dict(n_epochs=N_EPOCHS, lr=1e-2),\n",
    "    mf=dict(n_epochs=N_EPOCHS, lr=1e-2),\n",
    ")"
   ]
  },
  {
   "cell_type": "code",
   "execution_count": 13,
   "metadata": {},
   "outputs": [],
   "source": [
    "res_mf = multi_train_estimates(\n",
    "    filename=os.path.join(DIR_PATH, \"res_mf_final1_high_lr_epochs.pickle\"),\n",
    "    mdl_class=VAE,\n",
    "    dataset=dataset,\n",
    "    mdl_params=mdl_params[\"mf\"],\n",
    "    train_params=train_params[\"mf\"],\n",
    "    train_fn_params=train_fn_params[\"mf\"],\n",
    "    sizes=SIZES,\n",
    "    n_trainings=N_TRAININGS,\n",
    "    n_picks=N_PICKS,\n",
    "    n_samples=500,\n",
    "    label_a=0,\n",
    "    normalized_means=h.exp(),\n",
    "    label_b=1,\n",
    ").assign(algorithm=\"MF\")\n",
    "\n",
    "\n",
    "res_iaf = multi_train_estimates(\n",
    "    filename=os.path.join(DIR_PATH, \"res_iaf_final1_high_lr_epochs.pickle\"),\n",
    "    mdl_class=IAVAE,\n",
    "    dataset=dataset,\n",
    "    mdl_params=mdl_params[\"iaf\"],\n",
    "    train_params=train_params[\"iaf\"],\n",
    "    train_fn_params=train_fn_params[\"iaf\"],\n",
    "    sizes=SIZES,\n",
    "    n_trainings=N_TRAININGS,\n",
    "    n_picks=N_PICKS,\n",
    "    n_samples=500,\n",
    "    normalized_means=h.exp(),\n",
    "    label_a=0,\n",
    "    label_b=1,\n",
    ").assign(algorithm=\"IAF\")"
   ]
  },
  {
   "cell_type": "markdown",
   "metadata": {},
   "source": [
    "# Compute competitors scores"
   ]
  },
  {
   "cell_type": "code",
   "execution_count": 14,
   "metadata": {},
   "outputs": [],
   "source": [
    "other_predictions = all_predictions(\n",
    "    filename=os.path.join(DIR_PATH, \"other_predictions_double_check.pickle\"),\n",
    "    n_genes=n_genes,\n",
    "    n_picks=N_PICKS,\n",
    "    sizes=SIZES,\n",
    "    data_path=data_path,\n",
    "    labels_path=labels_path,\n",
    "    normalized_means=means_path,\n",
    "    delta=DELTA,\n",
    "    path_to_scripts=PATH_TO_SCRIPTS,\n",
    ")\n",
    "\n",
    "other_predictions = all_de_predictions(\n",
    "    other_predictions, significance_level=Q0, delta=DELTA\n",
    ")"
   ]
  },
  {
   "cell_type": "markdown",
   "metadata": {},
   "source": [
    "Check sign of LFC "
   ]
  },
  {
   "cell_type": "code",
   "execution_count": 15,
   "metadata": {},
   "outputs": [
    {
     "data": {
      "image/png": "[encoded data removed]",
      "text/plain": [
       "<Figure size 432x288 with 1 Axes>"
      ]
     },
     "metadata": {
      "needs_background": "light"
     },
     "output_type": "display_data"
    },
    {
     "data": {
      "image/png": "[encoded data removed]",
      "text/plain": [
       "<Figure size 432x288 with 1 Axes>"
      ]
     },
     "metadata": {
      "needs_background": "light"
     },
     "output_type": "display_data"
    },
    {
     "data": {
      "image/png": "[encoded data removed]",
      "text/plain": [
       "<Figure size 432x288 with 1 Axes>"
      ]
     },
     "metadata": {
      "needs_background": "light"
     },
     "output_type": "display_data"
    }
   ],
   "source": [
    "from scvi.utils import plot_identity\n",
    "\n",
    "# lfc_gt = -(lfcs[:, 1] - lfcs[:, 0])\n",
    "# lfc_gt = - (h[:, 1] - lfcs0[:, 0])\n",
    "plt.scatter(lfc_gt, other_predictions[\"edger\"][\"lfc\"][-1, -1, :])\n",
    "plot_identity()\n",
    "plt.show()\n",
    "\n",
    "plt.scatter(lfc_gt, other_predictions[\"deseq2\"][\"lfc\"][-1, -1, :])\n",
    "plot_identity()\n",
    "plt.show()\n",
    "\n",
    "\n",
    "plt.scatter(lfc_gt, other_predictions[\"mast\"][\"lfc\"][-1, -1, :])\n",
    "plot_identity()\n",
    "plt.show()"
   ]
  },
  {
   "cell_type": "code",
   "execution_count": 16,
   "metadata": {},
   "outputs": [],
   "source": [
    "other_predictions[\"edger\"][\"lfc\"] = -other_predictions[\"edger\"][\"lfc\"]\n",
    "other_predictions[\"mast\"][\"lfc\"] = -other_predictions[\"mast\"][\"lfc\"]"
   ]
  },
  {
   "cell_type": "markdown",
   "metadata": {},
   "source": [
    "# Experiments"
   ]
  },
  {
   "cell_type": "code",
   "execution_count": 17,
   "metadata": {},
   "outputs": [],
   "source": [
    "def algos_comparison(my_df, key1, other_keys, key_values=\"error\"):\n",
    "    vals_key1 = my_df.loc[my_df[\"algorithm\"] == key1, key_values].values\n",
    "    algo1_is_better = True\n",
    "    for key2 in other_keys:\n",
    "        vals_other = my_df.loc[my_df[\"algorithm\"] == key2, key_values].values\n",
    "        try:\n",
    "            key1_better = has_lower_mean(vals_key1, vals_other)\n",
    "        except ValueError:\n",
    "            key1_better = False\n",
    "            break\n",
    "        if not key1_better:\n",
    "            algo1_is_better = False\n",
    "            break\n",
    "    return key1_better"
   ]
  },
  {
   "cell_type": "code",
   "execution_count": 18,
   "metadata": {},
   "outputs": [],
   "source": [
    "def train_model(\n",
    "    mdl_class, dataset, mdl_params: dict, train_params: dict, train_fn_params: dict\n",
    "):\n",
    "    \"\"\"\n",
    "\n",
    "    :param mdl_class: Class of algorithm\n",
    "    :param dataset: Dataset\n",
    "    :param mdl_params:\n",
    "    :param train_params:\n",
    "    :param train_fn_params:\n",
    "    :return:\n",
    "    \"\"\"\n",
    "    my_vae = mdl_class(dataset.nb_genes, n_batch=dataset.n_batches, **mdl_params)\n",
    "    my_trainer = UnsupervisedTrainer(my_vae, dataset, **train_params)\n",
    "    print(my_trainer.test_set.data_loader.sampler.indices)\n",
    "    my_trainer.train(**train_fn_params)\n",
    "    print(my_trainer.train_losses)\n",
    "    return my_vae, my_trainer"
   ]
  },
  {
   "cell_type": "markdown",
   "metadata": {},
   "source": [
    "## PR Curves"
   ]
  },
  {
   "cell_type": "markdown",
   "metadata": {},
   "source": [
    "#### PR Curve"
   ]
  },
  {
   "cell_type": "code",
   "execution_count": 19,
   "metadata": {},
   "outputs": [],
   "source": [
    "selected_training = 2\n",
    "\n",
    "preds_md = res_mf.loc[\n",
    "    lambda x: (x.experiment == 2)\n",
    "    & (x.training == selected_training)\n",
    "    & (x.sample_size == 100)\n",
    "].sort_values(\"gene\")[\"de_proba\"]\n",
    "\n",
    "preds_iaf = res_iaf.loc[\n",
    "    lambda x: (x.experiment == 2)\n",
    "    & (x.training == selected_training)\n",
    "    & (x.sample_size == 100)\n",
    "].sort_values(\"gene\")[\"de_proba\"]\n"
   ]
  },
  {
   "cell_type": "code",
   "execution_count": 20,
   "metadata": {},
   "outputs": [
    {
     "data": {
      "text/plain": [
       "(6, 10, 1000)"
      ]
     },
     "execution_count": 20,
     "metadata": {},
     "output_type": "execute_result"
    }
   ],
   "source": [
    "other_predictions[\"deseq2\"][\"pval\"].shape"
   ]
  },
  {
   "cell_type": "code",
   "execution_count": 21,
   "metadata": {},
   "outputs": [],
   "source": [
    "from sklearn.metrics import precision_recall_curve\n",
    "\n",
    "preds_deseq2 = 1.0 - other_predictions[\"deseq2\"][\"pval\"][-1, 0, :] + 1e-10*np.random.randn(n_genes)\n",
    "preds_edger = 1.0 - other_predictions[\"edger\"][\"pval\"][-1, 0, :] #+ 1e-10*np.random.randn(n_genes)\n",
    "preds_mast = 1.0 - other_predictions[\"mast\"][\"pval\"][-1, 0, :] #+ 1e-10*np.random.randn(n_genes)"
   ]
  },
  {
   "cell_type": "code",
   "execution_count": 22,
   "metadata": {},
   "outputs": [
    {
     "data": {
      "text/plain": [
       "algorithm\n",
       "IAF    0.949701\n",
       "MF     0.942038\n",
       "Name: recall, dtype: float64"
      ]
     },
     "metadata": {},
     "output_type": "display_data"
    },
    {
     "data": {
      "text/plain": [
       "algorithm\n",
       "IAF    0.982931\n",
       "MF     0.979180\n",
       "Name: recall, dtype: float64"
      ]
     },
     "metadata": {},
     "output_type": "display_data"
    }
   ],
   "source": [
    "CONTROL_ALPHA = False\n",
    "from scipy.stats import mannwhitneyu\n",
    "\n",
    "\n",
    "def fdr_fnr(my_df, control_alpha=True):\n",
    "    my_df = my_df.sort_values(\"gene\")\n",
    "    assert len(my_df) == n_genes\n",
    "    if control_alpha:\n",
    "        is_pred_de = predict_de_genes(my_df.de_proba.values, desired_fdr=Q0)\n",
    "        alpha = my_df.de_proba.values[is_pred_de].min()\n",
    "    else:\n",
    "        is_pred_de = my_df.de_proba.values >= 0.5\n",
    "        alpha = 0.5\n",
    "    true_fdr = ((1.0 - is_significant_de) * is_pred_de).sum() / is_pred_de.sum()\n",
    "    n_positives = is_significant_de.sum()\n",
    "    true_fnr = (is_significant_de * (1.0 - is_pred_de)).sum() / n_positives\n",
    "    return pd.Series(dict(fdr=true_fdr, fnr=true_fnr, alpha=alpha))\n",
    "\n",
    "\n",
    "fdr_fnr_mf = (\n",
    "    res_mf.groupby([\"experiment\", \"training\", \"sample_size\"])\n",
    "    .apply(fdr_fnr, control_alpha=CONTROL_ALPHA)\n",
    "    .reset_index()\n",
    "    .assign(algorithm=\"MF\")\n",
    ")\n",
    "fdr_fnr_iaf = (\n",
    "    res_iaf.groupby([\"experiment\", \"training\", \"sample_size\"])\n",
    "    .apply(fdr_fnr, control_alpha=CONTROL_ALPHA)\n",
    "    .reset_index()\n",
    "    .assign(algorithm=\"IAF\")\n",
    ")\n",
    "\n",
    "\n",
    "df = pd.concat(\n",
    "    [\n",
    "        fdr_fnr_mf,\n",
    "        fdr_fnr_iaf,\n",
    "    ],\n",
    "    ignore_index=True,\n",
    ")\n",
    "\n",
    "df.loc[:, \"recall\"] = 1.0 - df.loc[:, \"fnr\"]\n",
    "recall_ranges = df.loc[lambda x: x.sample_size == 100].groupby([\"algorithm\"])[\"recall\"]\n",
    "\n",
    "min_recalls = recall_ranges.mean() - 2.0*recall_ranges.std() \n",
    "max_recalls = recall_ranges.mean() + 2.0*recall_ranges.std() \n",
    "display(min_recalls, max_recalls)"
   ]
  },
  {
   "cell_type": "code",
   "execution_count": 23,
   "metadata": {},
   "outputs": [
    {
     "name": "stdout",
     "output_type": "stream",
     "text": [
      "Recall IAF Better :  56164.5 6.67024115426289e-08\n"
     ]
    }
   ],
   "source": [
    "stat, pval = mannwhitneyu(\n",
    "    df.loc[lambda x: x.algorithm==\"IAF\", \"recall\"],\n",
    "    df.loc[lambda x: x.algorithm==\"MF\", \"recall\"],\n",
    "    alternative=\"greater\"\n",
    ")\n",
    "\n",
    "print(\"Recall IAF Better : \", stat, pval)"
   ]
  },
  {
   "cell_type": "code",
   "execution_count": 24,
   "metadata": {},
   "outputs": [
    {
     "data": {
      "text/plain": [
       "algorithm\n",
       "IAF    0.956786\n",
       "MF     0.925704\n",
       "Name: precision, dtype: float64"
      ]
     },
     "metadata": {},
     "output_type": "display_data"
    },
    {
     "data": {
      "text/plain": [
       "algorithm\n",
       "IAF    0.997577\n",
       "MF     1.000000\n",
       "Name: precision, dtype: float64"
      ]
     },
     "metadata": {},
     "output_type": "display_data"
    }
   ],
   "source": [
    "df.loc[:, \"precision\"] = 1.0 - df.loc[:, \"fdr\"]\n",
    "precision_ranges = df.loc[lambda x: x.sample_size == 100].groupby([\"algorithm\"])[\"precision\"]\n",
    "\n",
    "min_precisions = precision_ranges.mean() - 2.0*precision_ranges.std() \n",
    "max_precisions = precision_ranges.mean() + 2.0*precision_ranges.std()\n",
    "max_precisions[max_precisions>=1.0] = 1.0\n",
    "display(min_precisions, max_precisions)"
   ]
  },
  {
   "cell_type": "code",
   "execution_count": 25,
   "metadata": {},
   "outputs": [
    {
     "name": "stdout",
     "output_type": "stream",
     "text": [
      "Precision IAF better :  50875.0 0.002828438101704957\n"
     ]
    }
   ],
   "source": [
    "stat, pval = mannwhitneyu(\n",
    "    df.loc[lambda x: x.algorithm==\"IAF\", \"precision\"],\n",
    "    df.loc[lambda x: x.algorithm==\"MF\", \"precision\"],\n",
    "    alternative=\"greater\"\n",
    ")\n",
    "\n",
    "print(\"Precision IAF better : \", stat, pval)"
   ]
  },
  {
   "cell_type": "code",
   "execution_count": null,
   "metadata": {},
   "outputs": [],
   "source": [
    "from sklearn.metrics import precision_recall_curve, average_precision_score\n",
    "opacity = 0.6\n",
    "\n",
    "def plot_pr(fig, preds, y_true, name):\n",
    "    average_precision = average_precision_score(y_true, preds)\n",
    "    preds[np.isnan(preds)] = np.min(preds[~np.isnan(preds)])\n",
    "    precs, recs, _ = precision_recall_curve(y_true=y_true, probas_pred=preds)\n",
    "    fig.add_trace(\n",
    "        go.Scatter(\n",
    "            x=recs, y=precs, name=name + \"@AP: {0:0.2f}\".format(average_precision)\n",
    "        )\n",
    "    )\n",
    "    return\n",
    "\n",
    "\n",
    "layout = go.Layout(\n",
    "    title=\"Precision Recall Curves\",\n",
    "    xaxis=dict(title=\"Recall\"),\n",
    "    yaxis=dict(title=\"Precision\"),\n",
    "    width=800,\n",
    "    height=600,\n",
    ")\n",
    "\n",
    "fig = go.Figure(layout=layout)\n",
    "plot_pr(fig=fig, preds=preds_md, y_true=is_significant_de, name=\"MF\")\n",
    "plot_pr(fig=fig, preds=preds_iaf, y_true=is_significant_de, name=\"IAF\")\n",
    "plot_pr(fig=fig, preds=preds_deseq2, y_true=is_significant_de, name=\"DESeq2\")\n",
    "plot_pr(fig=fig, preds=preds_edger, y_true=is_significant_de, name=\"EdgeR\")\n",
    "plot_pr(fig=fig, preds=preds_mast, y_true=is_significant_de, name=\"MAST\")\n",
    "\n",
    "layouts = [\n",
    "    go.layout.Shape(\n",
    "        type=\"rect\",\n",
    "        x0=min_recalls.MF,\n",
    "        y0=min_precisions.MF,\n",
    "        x1=max_recalls.MF,\n",
    "        y1=max_precisions.MF,\n",
    "        line=dict(color=\"blue\", width=2),\n",
    "        fillcolor=\"blue\",\n",
    "        opacity=opacity\n",
    "    ),\n",
    "    go.layout.Shape(\n",
    "        type=\"rect\",\n",
    "        x0=min_recalls.IAF,\n",
    "        y0=min_precisions.IAF,\n",
    "        x1=max_recalls.IAF,\n",
    "        y1=max_precisions.IAF,\n",
    "        line=dict(color=\"red\", width=2),\n",
    "        fillcolor=\"red\",\n",
    "        opacity=opacity\n",
    "    ),\n",
    "]\n",
    "\n",
    "fig.update_layout(shapes=layouts)\n",
    "fig.update_xaxes(range=[0.5, 1.01])\n",
    "fig.update_yaxes(range=[0.5, 1.01])\n",
    "fig.show()"
   ]
  },
  {
   "cell_type": "markdown",
   "metadata": {},
   "source": [
    "#### MAP"
   ]
  },
  {
   "cell_type": "code",
   "execution_count": null,
   "metadata": {},
   "outputs": [],
   "source": [
    "def do_ap(my_df):\n",
    "    my_df = my_df.sort_values(\"gene\")\n",
    "    average_precision = average_precision_score(is_significant_de, my_df.de_proba)\n",
    "    return pd.Series(dict(AP=average_precision))\n",
    "\n",
    "\n",
    "ap_mf = (\n",
    "    res_mf.groupby([\"experiment\", \"training\", \"sample_size\"])\n",
    "    .apply(do_ap)\n",
    "    .reset_index()\n",
    "    .assign(algorithm=\"MF\")\n",
    ")\n",
    "ap_iaf = (\n",
    "    res_iaf.groupby([\"experiment\", \"training\", \"sample_size\"])\n",
    "    .apply(do_ap)\n",
    "    .reset_index()\n",
    "    .assign(algorithm=\"IAF\")\n",
    ")\n",
    "\n",
    "\n",
    "all_ap = pd.concat(\n",
    "    [\n",
    "        ap_mf,\n",
    "        ap_iaf,\n",
    "\n",
    "    ],\n",
    "    ignore_index=True,\n",
    ")\n",
    "\n",
    "px.box(all_ap, x=\"sample_size\", y=\"AP\", color=\"algorithm\")"
   ]
  },
  {
   "cell_type": "markdown",
   "metadata": {},
   "source": [
    "## Diagonal Curve"
   ]
  },
  {
   "cell_type": "code",
   "execution_count": 28,
   "metadata": {},
   "outputs": [],
   "source": [
    "selected_training = 0\n",
    "subsample_genes = np.sort(np.random.permutation(n_genes)[:120])\n",
    "\n",
    "lfcs_mf = (\n",
    "    res_mf.loc[\n",
    "        lambda x: (x.experiment == 0)\n",
    "        & (x.training == selected_training)\n",
    "        & (x.sample_size == 100)\n",
    "        & (x.gene.isin(subsample_genes))\n",
    "    ]\n",
    "    .sort_values(\"gene\")[\n",
    "        [\"lfc_mean\", \"hdi99_low\", \"hdi99_high\", \"hdi64_low\", \"hdi64_high\", \"algorithm\"]\n",
    "    ]\n",
    "    .assign(\n",
    "        err_minus=lambda x: x.lfc_mean - x.hdi99_low,\n",
    "        err_pos=lambda x: x.hdi99_high - x.lfc_mean,\n",
    "        lfc_gt=lfc_gt[subsample_genes],\n",
    "    )\n",
    ")\n",
    "\n",
    "lfcs_ia = (\n",
    "    res_iaf.loc[\n",
    "        lambda x: (x.experiment == 0)\n",
    "        & (x.training == selected_training)\n",
    "        & (x.sample_size == 100)\n",
    "        & (x.gene.isin(subsample_genes))\n",
    "    ]\n",
    "    .sort_values(\"gene\")[\n",
    "        [\"lfc_mean\", \"hdi99_low\", \"hdi99_high\", \"hdi64_low\", \"hdi64_high\", \"algorithm\"]\n",
    "    ]\n",
    "    .assign(\n",
    "        err_minus=lambda x: x.lfc_mean - x.hdi99_low,\n",
    "        err_pos=lambda x: x.hdi99_high - x.lfc_mean,\n",
    "        lfc_gt=lfc_gt[subsample_genes],\n",
    "    )\n",
    ")\n",
    "\n",
    "all_lfcs = pd.concat([lfcs_mf, lfcs_ia], ignore_index=True)"
   ]
  },
  {
   "cell_type": "code",
   "execution_count": null,
   "metadata": {},
   "outputs": [],
   "source": [
    "fig = px.scatter(\n",
    "    all_lfcs,\n",
    "    x=\"lfc_gt\",\n",
    "    y=\"lfc_mean\",\n",
    "    color=\"algorithm\",\n",
    "    error_y=\"err_pos\",\n",
    "    error_y_minus=\"err_minus\",\n",
    ")\n",
    "\n",
    "fig.add_trace(\n",
    "    go.Scatter(\n",
    "        x=[-3, 3],\n",
    "        y=[-3, 3],\n",
    "        mode=\"lines\",\n",
    "        line=dict(color=\"black\", width=4, dash=\"dash\"),\n",
    "        showlegend=False,\n",
    "    )\n",
    ")\n",
    "\n",
    "fig.show()\n"
   ]
  },
  {
   "cell_type": "markdown",
   "metadata": {},
   "source": [
    "## Study of LFC errors"
   ]
  },
  {
   "cell_type": "code",
   "execution_count": 30,
   "metadata": {},
   "outputs": [],
   "source": [
    "def compute_l2_err(diff):\n",
    "    res = 0.5 * (diff ** 2) ** (0.5)\n",
    "    res = np.nanmean(res, axis=-1)\n",
    "    return res\n",
    "\n",
    "\n",
    "def l2_err_competitor(vals: np.ndarray, other: np.ndarray = None):\n",
    "    vals[np.isnan(vals)] = 0.0\n",
    "    if other is None:\n",
    "        diff = vals\n",
    "    else:\n",
    "        diff = vals - other\n",
    "    res = compute_l2_err(diff)\n",
    "    assert res.shape == (N_SIZES, N_PICKS)\n",
    "    data = []\n",
    "    for (size_ix, size) in enumerate(SIZES):\n",
    "        for pick in range(N_PICKS):\n",
    "            data.append(\n",
    "                dict(\n",
    "                    experiment=pick,\n",
    "                    training=0,\n",
    "                    sample_size=size,\n",
    "                    error=res[size_ix, pick],\n",
    "                )\n",
    "            )\n",
    "    return pd.DataFrame(data)\n",
    "\n",
    "\n",
    "lfcs_errs_deseq2 = l2_err_competitor(\n",
    "    other_predictions[\"deseq2\"][\"lfc\"], other=lfc_gt\n",
    ").assign(algorithm=\"DESeq2\")\n",
    "lfcs_errs_edger = l2_err_competitor(\n",
    "    other_predictions[\"edger\"][\"lfc\"], other=lfc_gt\n",
    ").assign(algorithm=\"EdgeR\")\n",
    "lfcs_errs_mast = l2_err_competitor(\n",
    "    other_predictions[\"mast\"][\"lfc\"], other=lfc_gt\n",
    ").assign(algorithm=\"MAST\")"
   ]
  },
  {
   "cell_type": "code",
   "execution_count": null,
   "metadata": {},
   "outputs": [],
   "source": [
    "def pd_l2_err(my_df):\n",
    "    diff = my_df.sort_values(\"gene\")[\"lfc_mean\"] - lfc_gt\n",
    "    error = 0.5 * (diff ** 2) ** (0.5)\n",
    "    error = np.nanmean(error)\n",
    "    return pd.Series(dict(error=error))\n",
    "\n",
    "\n",
    "lfcs_errs_mf = (\n",
    "    res_mf.groupby([\"experiment\", \"sample_size\", \"training\", \"algorithm\"])\n",
    "    .apply(pd_l2_err)\n",
    "    .reset_index()\n",
    ")\n",
    "\n",
    "lfcs_errs_iaf = (\n",
    "    res_iaf.groupby([\"experiment\", \"sample_size\", \"training\", \"algorithm\"])\n",
    "    .apply(pd_l2_err)\n",
    "    .reset_index()\n",
    "    .assign(algorithm=\"IAF\")\n",
    ")\n",
    "\n",
    "all_errs = pd.concat(\n",
    "    [lfcs_errs_mf, lfcs_errs_iaf, lfcs_errs_deseq2, lfcs_errs_edger, lfcs_errs_mast],\n",
    "    ignore_index=True,\n",
    ")\n",
    "\n",
    "px.box(all_errs, x=\"sample_size\", y=\"error\", color=\"algorithm\")"
   ]
  },
  {
   "cell_type": "markdown",
   "metadata": {},
   "source": [
    "### Tables"
   ]
  },
  {
   "cell_type": "code",
   "execution_count": 32,
   "metadata": {},
   "outputs": [],
   "source": [
    "def algos_comparison(my_df, key1, other_keys):\n",
    "    vals_key1 = my_df.loc[my_df[\"algorithm\"] == key1, \"error\"].values\n",
    "    algo1_is_better = True\n",
    "    for key2 in other_keys:\n",
    "        vals_other = my_df.loc[my_df[\"algorithm\"] == key2, \"error\"].values\n",
    "        key1_better = has_lower_mean(vals_key1, vals_other)\n",
    "        if not key1_better:\n",
    "            algo1_is_better = False\n",
    "            break\n",
    "    return key1_better\n",
    "\n",
    "\n",
    "gped = all_errs.groupby(\"sample_size\")\n",
    "mf_or_iaf_better = gped.apply(\n",
    "    algos_comparison, key1=\"MF\", other_keys=[\"DESeq2\", \"EdgeR\", \"MAST\"]\n",
    ") & gped.apply(algos_comparison, key1=\"IAF\", other_keys=[\"DESeq2\", \"EdgeR\", \"MAST\"])\n",
    "mf_better = gped.apply(\n",
    "    algos_comparison, key1=\"MF\", other_keys=[\"IAF\", \"DESeq2\", \"EdgeR\", \"MAST\"]\n",
    ")\n",
    "iaf_better = gped.apply(\n",
    "    algos_comparison, key1=\"IAF\", other_keys=[\"MF\", \"DESeq2\", \"EdgeR\", \"MAST\"]\n",
    ")"
   ]
  },
  {
   "cell_type": "code",
   "execution_count": 33,
   "metadata": {},
   "outputs": [
    {
     "name": "stderr",
     "output_type": "stream",
     "text": [
      "/home/ubuntu/anaconda3/envs/scvi/lib/python3.7/site-packages/ipykernel/__main__.py:3: FutureWarning:\n",
      "\n",
      "using a dict on a Series for aggregation\n",
      "is deprecated and will be removed in a future version\n",
      "\n"
     ]
    }
   ],
   "source": [
    "res_table = (\n",
    "    all_errs.groupby([\"sample_size\", \"algorithm\"])\n",
    "    .error.agg(dict(err_mean=\"mean\", err_std=\"std\"))\n",
    "    .reset_index()\n",
    "    .assign(\n",
    "        displayed=lambda x: x.apply(lambda y: \"{:.3f}\".format(y.err_mean), axis=1),\n",
    "        is_better=False,\n",
    "        one_of_best=False,\n",
    "    )\n",
    ")\n",
    "res_table.loc[res_table[\"algorithm\"] == \"MF\", \"is_better\"] = mf_better.values\n",
    "res_table.loc[res_table[\"algorithm\"] == \"IAF\", \"is_better\"] = iaf_better.values\n",
    "res_table.loc[res_table[\"algorithm\"] == \"IAF\", \"one_of_best\"] = mf_or_iaf_better.values\n",
    "res_table.loc[res_table[\"algorithm\"] == \"MF\", \"one_of_best\"] = mf_or_iaf_better.values\n",
    "\n",
    "\n",
    "res_table.loc[lambda x: x.one_of_best, \"displayed\"] = (\n",
    "    res_table.loc[lambda x: x.one_of_best, \"displayed\"] + \"^*\"\n",
    ")\n",
    "res_table.loc[lambda x: x.is_better, \"displayed\"] = res_table.loc[\n",
    "    lambda x: x.is_better, \"displayed\"\n",
    "].apply(lambda x: \"\\mathbf{{ {} }}\".format(x))\n",
    "\n",
    "res_table.loc[:, \"displayed\"] = res_table.loc[:, \"displayed\"].apply(\n",
    "    lambda x: \"$ {} $\".format(x)\n",
    ")"
   ]
  },
  {
   "cell_type": "code",
   "execution_count": 34,
   "metadata": {},
   "outputs": [
    {
     "data": {
      "text/html": [
       "<div>\n",
       "<style scoped>\n",
       "    .dataframe tbody tr th:only-of-type {\n",
       "        vertical-align: middle;\n",
       "    }\n",
       "\n",
       "    .dataframe tbody tr th {\n",
       "        vertical-align: top;\n",
       "    }\n",
       "\n",
       "    .dataframe thead th {\n",
       "        text-align: right;\n",
       "    }\n",
       "</style>\n",
       "<table border=\"1\" class=\"dataframe\">\n",
       "  <thead>\n",
       "    <tr style=\"text-align: right;\">\n",
       "      <th>sample_size</th>\n",
       "      <th>10</th>\n",
       "      <th>50</th>\n",
       "      <th>100</th>\n",
       "    </tr>\n",
       "    <tr>\n",
       "      <th>algorithm</th>\n",
       "      <th></th>\n",
       "      <th></th>\n",
       "      <th></th>\n",
       "    </tr>\n",
       "  </thead>\n",
       "  <tbody>\n",
       "    <tr>\n",
       "      <th>DESeq2</th>\n",
       "      <td>$ 0.151 $</td>\n",
       "      <td>$ 0.069 $</td>\n",
       "      <td>$ 0.053 $</td>\n",
       "    </tr>\n",
       "    <tr>\n",
       "      <th>EdgeR</th>\n",
       "      <td>$ 0.170 $</td>\n",
       "      <td>$ 0.072 $</td>\n",
       "      <td>$ 0.052 $</td>\n",
       "    </tr>\n",
       "    <tr>\n",
       "      <th>MAST</th>\n",
       "      <td>$ 0.156 $</td>\n",
       "      <td>$ 0.075 $</td>\n",
       "      <td>$ 0.063 $</td>\n",
       "    </tr>\n",
       "    <tr>\n",
       "      <th>MF</th>\n",
       "      <td>$ 0.029^* $</td>\n",
       "      <td>$ 0.022^* $</td>\n",
       "      <td>$ 0.019^* $</td>\n",
       "    </tr>\n",
       "    <tr>\n",
       "      <th>IAF</th>\n",
       "      <td>$ \\mathbf{ 0.025^* } $</td>\n",
       "      <td>$ \\mathbf{ 0.017^* } $</td>\n",
       "      <td>$ \\mathbf{ 0.016^* } $</td>\n",
       "    </tr>\n",
       "  </tbody>\n",
       "</table>\n",
       "</div>"
      ],
      "text/plain": [
       "sample_size                     10                      50   \\\n",
       "algorithm                                                     \n",
       "DESeq2                    $ 0.151 $               $ 0.069 $   \n",
       "EdgeR                     $ 0.170 $               $ 0.072 $   \n",
       "MAST                      $ 0.156 $               $ 0.075 $   \n",
       "MF                      $ 0.029^* $             $ 0.022^* $   \n",
       "IAF          $ \\mathbf{ 0.025^* } $  $ \\mathbf{ 0.017^* } $   \n",
       "\n",
       "sample_size                     100  \n",
       "algorithm                            \n",
       "DESeq2                    $ 0.053 $  \n",
       "EdgeR                     $ 0.052 $  \n",
       "MAST                      $ 0.063 $  \n",
       "MF                      $ 0.019^* $  \n",
       "IAF          $ \\mathbf{ 0.016^* } $  "
      ]
     },
     "execution_count": 34,
     "metadata": {},
     "output_type": "execute_result"
    }
   ],
   "source": [
    "res_table.pivot(index=\"algorithm\", columns=\"sample_size\", values=\"displayed\").loc[\n",
    "    [\"DESeq2\", \"EdgeR\", \"MAST\", \"MF\", \"IAF\"], [10, 50, 100]\n",
    "]"
   ]
  },
  {
   "cell_type": "code",
   "execution_count": 35,
   "metadata": {},
   "outputs": [
    {
     "name": "stdout",
     "output_type": "stream",
     "text": [
      "\\begin{tabular}{llll}\n",
      "\\toprule\n",
      "sample_size &          5   &          20  &                     100 \\\\\n",
      "algorithm &              &              &                         \\\\\n",
      "\\midrule\n",
      "DESeq2    &    $ 0.224 $ &    $ 0.122 $ &               $ 0.053 $ \\\\\n",
      "EdgeR     &    $ 0.233 $ &    $ 0.122 $ &               $ 0.052 $ \\\\\n",
      "MAST      &    $ 0.231 $ &    $ 0.120 $ &               $ 0.063 $ \\\\\n",
      "MF        &  $ 0.032^* $ &  $ 0.025^* $ &             $ 0.019^* $ \\\\\n",
      "IAF       &  $ 0.034^* $ &  $ 0.022^* $ &  $ \\mathbf{ 0.016^* } $ \\\\\n",
      "\\bottomrule\n",
      "\\end{tabular}\n",
      "\n"
     ]
    }
   ],
   "source": [
    "print(\n",
    "    res_table.pivot(index=\"algorithm\", columns=\"sample_size\", values=\"displayed\")\n",
    "    .loc[[\"DESeq2\", \"EdgeR\", \"MAST\", \"MF\", \"IAF\"], [5, 20, 100]]\n",
    "    .to_latex(escape=False)\n",
    ")"
   ]
  },
  {
   "cell_type": "markdown",
   "metadata": {},
   "source": [
    "## Coverage, Local Diagonal curves"
   ]
  },
  {
   "cell_type": "code",
   "execution_count": null,
   "metadata": {
    "scrolled": true
   },
   "outputs": [
    {
     "name": "stderr",
     "output_type": "stream",
     "text": [
      "/home/ubuntu/scVI/scvi/models/iavae.py:56: UserWarning:\n",
      "\n",
      "EXPERIMENTAL: Posterior functionalities may not be working\n",
      "\n",
      "INFO:scvi.models.iaf_encoder:Using Hidden State\n",
      "INFO:scvi.models.modules:Preventing saturation: True\n"
     ]
    },
    {
     "name": "stdout",
     "output_type": "stream",
     "text": [
      "[3812 7655 5929 ... 8774 1730 9159]\n",
      "training:  15%|█▌        | 30/200 [00:37<03:28,  1.23s/it]"
     ]
    }
   ],
   "source": [
    "def train_or_load(filepath, my_mdl_class, my_mdl_params, my_train_params, my_train_fn_params):\n",
    "    if os.path.exists(filepath):\n",
    "        tup = load_pickle(filepath)\n",
    "    else:\n",
    "        tup = train_model(\n",
    "            mdl_class=my_mdl_class,\n",
    "            dataset=dataset,\n",
    "            mdl_params=my_mdl_params,\n",
    "            train_params=my_train_params,\n",
    "            train_fn_params=my_train_fn_params,\n",
    "        )\n",
    "        save_pickle(tup, filepath)\n",
    "    return tup\n",
    "\n",
    "\n",
    "for i in range(5):\n",
    "    mdl_iaf, trainer_iaf = train_or_load(\n",
    "        os.path.join(DIR_PATH, \"iaf_mdl_{}final1.pickle\".format(i)),\n",
    "        IAVAE,\n",
    "        mdl_params[\"iaf\"],\n",
    "        train_params[\"iaf\"],\n",
    "        train_fn_params[\"iaf\"],\n",
    "    )\n",
    "\n",
    "    mdl_mf, trainer_mf = train_or_load(\n",
    "        os.path.join(DIR_PATH, \"mf_mdl_{}final1.pickle\".format(i)),\n",
    "        VAE,\n",
    "        mdl_params[\"mf\"],\n",
    "        train_params[\"mf\"],\n",
    "        train_fn_params[\"mf\"],\n",
    "    )\n",
    "\n",
    "mdl_iaf.cuda()\n",
    "mdl_mf.cuda()\n",
    "print()"
   ]
  },
  {
   "cell_type": "code",
   "execution_count": null,
   "metadata": {},
   "outputs": [],
   "source": [
    "def subsampled_posterior(post, indices):\n",
    "    post.data_loader.sampler.indices = indices\n",
    "    return post\n",
    "\n",
    "\n",
    "def sample_random_indices(sz):\n",
    "    where_a = np.where(y_test == 0)[0]\n",
    "    where_b = np.where(y_test == 1)[0]\n",
    "    idx_a = np.random.choice(where_a, size=sz)\n",
    "    idx_b = np.random.choice(where_b, size=sz)\n",
    "    return idx_a, idx_b\n",
    "\n",
    "\n",
    "def compute_lfc(my_trainer, my_idx_a, my_idx_b, n_samples=1000, importance_sampling=False):\n",
    "    post_a = subsampled_posterior(my_trainer.test_set, TEST_INDICES[my_idx_a])\n",
    "    outputs_a = post_a.get_latents(n_samples=1000, other=True, device=\"cpu\")\n",
    "    scales_a, weights_a = outputs_a[\"scale\"], outputs_a[\"log_probas\"]\n",
    "    scales_a = scales_a.reshape((-1, dataset.nb_genes)).numpy()\n",
    "\n",
    "    post_b = subsampled_posterior(my_trainer.test_set, TEST_INDICES[my_idx_b])\n",
    "    outputs_b = post_b.get_latents(n_samples=1000, other=True, device=\"cpu\")\n",
    "    scales_b, weights_b = outputs_b[\"scale\"], outputs_b[\"log_probas\"]\n",
    "    scales_b = scales_b.reshape((-1, dataset.nb_genes)).numpy()\n",
    "\n",
    "    if importance_sampling:\n",
    "        weights_a = softmax(weights_a.reshape((-1)))\n",
    "        weights_b = softmax(weights_b.reshape((-1)))\n",
    "    else:\n",
    "        weights_a = None\n",
    "        weights_b = None\n",
    "    scales_a, scales_b = demultiply(\n",
    "        arr1=scales_a, arr2=scales_b, factor=3, weights_a=weights_a, weights_b=weights_b\n",
    "    )\n",
    "\n",
    "    lfc = np.log2(scales_a) - np.log2(scales_b)\n",
    "    return lfc\n",
    "\n",
    "\n",
    "def compute_lfc_gt(my_idx_a, my_idx_b):\n",
    "    n_cells_a = len(my_idx_a)\n",
    "    n_cells_b = len(my_idx_b)\n",
    "    h_a_gt = h[TEST_INDICES][my_idx_a].exp().log2()\n",
    "    h_b_gt = h[TEST_INDICES][my_idx_b].exp().log2()\n",
    "    my_lfc_orig = torch.zeros((n_cells_a, n_cells_b, 1000))\n",
    "    for i in range(n_cells_a):\n",
    "        for j in range(n_cells_b):\n",
    "            my_lfc_orig[i, j, :] = h_a_gt[i] - h_b_gt[j]\n",
    "    my_lfc_orig = my_lfc_orig.mean((0, 1))\n",
    "    return my_lfc_orig\n",
    "\n",
    "\n",
    "CREDIBLE_LEVELS = [5, 10, 15, 20]\n",
    "\n",
    "\n",
    "def get_coverage(lfc_pred, lfc_gt):\n",
    "    errs = []\n",
    "    for q in CREDIBLE_LEVELS:\n",
    "        hdi = compute_hdi(lfc_pred, 2*q / 100.0)\n",
    "        hdi_low = hdi[:, 0]\n",
    "        hdi_high = hdi[:, 1]\n",
    "        lfc_ground_truth_np = lfc_gt.numpy()\n",
    "        gene_is_covered = (lfc_ground_truth_np >= hdi_low) & (lfc_ground_truth_np <= hdi_high)\n",
    "        mean_cov = gene_is_covered.mean()\n",
    "        print(2 * q / 100.0, mean_cov)\n",
    "        errs.append(((2 * q / 100.0 - mean_cov) ** 2.0) * 0.5)\n",
    "    return np.mean(errs)"
   ]
  },
  {
   "cell_type": "code",
   "execution_count": null,
   "metadata": {
    "scrolled": true
   },
   "outputs": [],
   "source": [
    "from tqdm import tqdm\n",
    "\n",
    "errs_iaf = []\n",
    "errs_mf = []\n",
    "\n",
    "sz = 25\n",
    "for i in range(5):\n",
    "    for _ in tqdm(range(10)):\n",
    "        mdl_iaf, trainer_iaf = train_or_load(\n",
    "            os.path.join(DIR_PATH, \"iaf_mdl_{}final1.pickle\".format(i)),\n",
    "            IAVAE,\n",
    "            mdl_params[\"iaf\"],\n",
    "            train_params[\"iaf\"],\n",
    "            train_fn_params[\"iaf\"],\n",
    "        )\n",
    "\n",
    "        mdl_mf, trainer_mf = train_or_load(\n",
    "            os.path.join(DIR_PATH, \"mf_mdl_{}final1.pickle\".format(i)),\n",
    "            VAE,\n",
    "            mdl_params[\"mf\"],\n",
    "            train_params[\"mf\"],\n",
    "            train_fn_params[\"mf\"],\n",
    "        )\n",
    "        idx_a, idx_b = sample_random_indices(sz)\n",
    "        lfc_mf = compute_lfc(trainer_mf, idx_a, idx_b, n_samples=1000, importance_sampling=False)\n",
    "        lfc_iaf = compute_lfc(trainer_iaf, idx_a, idx_b, n_samples=1000, importance_sampling=False)\n",
    "        lfc_ground_truth = compute_lfc_gt(idx_a, idx_b)\n",
    "        print(\"IAF\")\n",
    "        errs_iaf.append(get_coverage(lfc_iaf, lfc_ground_truth))\n",
    "        print(\"MF\")\n",
    "        errs_mf.append(get_coverage(lfc_mf, lfc_ground_truth))"
   ]
  },
  {
   "cell_type": "code",
   "execution_count": null,
   "metadata": {},
   "outputs": [],
   "source": [
    "errs_iaf = np.array(errs_iaf)\n",
    "errs_mf = np.array(errs_mf)\n",
    "\n",
    "np.save(os.path.join(DIR_PATH, \"coverage_mf.pickle\"), errs_mf)\n",
    "np.save(os.path.join(DIR_PATH, \"coverage_iaf.pickle\"), errs_iaf)"
   ]
  },
  {
   "cell_type": "code",
   "execution_count": null,
   "metadata": {},
   "outputs": [],
   "source": [
    "plt.hist(errs_iaf, label=\"IAF\", alpha=0.5)\n",
    "plt.hist(errs_mf, label='MF', alpha=0.5)\n",
    "plt.legend()\n",
    "\n",
    "print(has_lower_mean(samp_a=errs_iaf, samp_b=errs_mf))\n",
    "print(np.mean(errs_iaf))\n",
    "print(np.mean(errs_mf))"
   ]
  },
  {
   "cell_type": "markdown",
   "metadata": {},
   "source": [
    "Diagonal"
   ]
  },
  {
   "cell_type": "code",
   "execution_count": null,
   "metadata": {},
   "outputs": [],
   "source": [
    "sz = 50\n",
    "\n",
    "# random_genes = np.random.permutation(n_genes)[:100]\n",
    "\n",
    "random_genes = np.argsort(-np.abs(lfc_gt))[:900]\n",
    "random_genes = np.random.choice(random_genes, 100)\n",
    "idx_a, idx_b = sample_random_indices(sz)\n",
    "lfc_mf = compute_lfc(trainer_mf, idx_a, idx_b, n_samples=2000)\n",
    "lfc_iaf = compute_lfc(trainer_iaf, idx_a, idx_b, n_samples=2000)\n",
    "lfc_ground_truth = compute_lfc_gt(idx_a, idx_b).numpy()[random_genes]\n",
    "\n",
    "mean_mf = lfc_mf.mean(0)[random_genes]\n",
    "mean_iaf = lfc_iaf.mean(0)[random_genes]\n",
    "mean_mf = np.median(lfc_mf, 0)[random_genes]\n",
    "mean_iaf = np.median(lfc_iaf, 0)[random_genes]\n",
    "hdis_mf = compute_hdi(lfc_mf, credible_interval=0.95)[random_genes]\n",
    "hdis_iaf = compute_hdi(lfc_iaf, credible_interval=0.95)[random_genes]\n",
    "\n",
    "fig = go.Figure()\n",
    "trace_mf = go.Scatter(\n",
    "    x=lfc_ground_truth-0.001,\n",
    "    y=mean_mf,\n",
    "    mode=\"markers\",\n",
    "    error_y=dict(\n",
    "        type=\"data\",\n",
    "        symmetric=False,\n",
    "        array=hdis_mf[:, 1] - mean_mf,\n",
    "        arrayminus=mean_mf - hdis_mf[:, 0],\n",
    "    ),\n",
    "    name=\"MF\"\n",
    ")\n",
    "\n",
    "trace_iaf = go.Scatter(\n",
    "    x=lfc_ground_truth+0.001,\n",
    "    y=mean_iaf,\n",
    "    mode=\"markers\",\n",
    "    error_y=dict(\n",
    "        type=\"data\",\n",
    "        symmetric=False,\n",
    "        array=hdis_iaf[:, 1] - mean_iaf,\n",
    "        arrayminus=mean_iaf - hdis_iaf[:, 0],\n",
    "    ),\n",
    "    name=\"IAF\"\n",
    ")\n",
    "trace_gt = go.Scatter(\n",
    "    x=[-6, 8],\n",
    "    y=[-6, 8],\n",
    "    mode=\"lines\",\n",
    "    line=dict(color=\"black\", width=4, dash=\"dash\"),\n",
    "    showlegend=False,\n",
    ")\n",
    "fig.add_traces([trace_mf, trace_iaf, trace_gt])\n",
    "fig.show()"
   ]
  },
  {
   "cell_type": "code",
   "execution_count": null,
   "metadata": {},
   "outputs": [],
   "source": [
    "idx = random_genes = np.argsort(-np.abs(lfc_gt))[10]\n",
    "\n",
    "fig = go.Figure()\n",
    "fig.add_traces([\n",
    "    go.Histogram(x=lfc_mf[:, idx], name=\"MF\"),\n",
    "    go.Histogram(x=lfc_iaf[:, idx], name=\"IAF\"),\n",
    "])\n",
    "\n",
    "fig.show()"
   ]
  },
  {
   "cell_type": "code",
   "execution_count": null,
   "metadata": {},
   "outputs": [],
   "source": [
    "plt.hist(lfc_mf[:, idx], alpha=0.5, bins=100)\n",
    "plt.hist(lfc_iaf[:, idx], alpha=0.5, bins=100)\n",
    "plt.axvline(compute_lfc_gt(idx_a, idx_b).numpy()[idx])\n",
    "plt.show()"
   ]
  },
  {
   "cell_type": "markdown",
   "metadata": {},
   "source": [
    "## Proportion of detected genes that have LFC abs above 0.5"
   ]
  },
  {
   "cell_type": "code",
   "execution_count": 70,
   "metadata": {},
   "outputs": [],
   "source": [
    "def counter(my_df):\n",
    "    df = (my_df.sort_values(\"gene\")[\"de_proba\"] >= 0.5).values\n",
    "    assert df.shape == (n_genes,)\n",
    "    return (df & (~is_significant_de)).mean()\n",
    "\n",
    "preds_mf = res_mf.loc[lambda x: (x.sample_size == 100)]\n",
    "preds_iaf = res_iaf.loc[lambda x: (x.sample_size == 100)]\n",
    "\n",
    "mf_de_genes_not_sig = preds_mf.groupby([\"experiment\", \"training\"]).apply(counter).values\n",
    "iaf_de_genes_not_sig = preds_iaf.groupby([\"experiment\", \"training\"]).apply(counter).values\n",
    "edger_de_genes_not_sig = ((other_predictions[\"edger\"][\"pval\"][-1] <= 0.05) & (~is_significant_de)).mean(1)\n",
    "mast_de_genes_not_sig = ((other_predictions[\"mast\"][\"pval\"][-1] <= 0.05) & (~is_significant_de)).mean(1)\n",
    "deseq2_de_genes_not_sig = ((other_predictions[\"deseq2\"][\"pval\"][-1] <= 0.05) & (~is_significant_de)).mean(1)"
   ]
  },
  {
   "cell_type": "code",
   "execution_count": 71,
   "metadata": {},
   "outputs": [],
   "source": [
    "couples = [\n",
    "    (\"MF\", mf_de_genes_not_sig), \n",
    "    (\"IAF\", iaf_de_genes_not_sig), \n",
    "    (\"edgeR\", edger_de_genes_not_sig), \n",
    "    (\"MAST\", mast_de_genes_not_sig), \n",
    "    (\"DESeq2\", deseq2_de_genes_not_sig), \n",
    "]\n",
    "\n",
    "res = []\n",
    "for key, vals in couples:\n",
    "    res.append({\"Algorithm\": key, \"Portion\": \"$ {} $\".format(round(vals.mean(), 3))})\n",
    "my_df = pd.DataFrame(res).set_index(\"Algorithm\").loc[[\"DESeq2\", \"edgeR\", \"MAST\", \"MF\", \"IAF\"]]"
   ]
  },
  {
   "cell_type": "code",
   "execution_count": 72,
   "metadata": {},
   "outputs": [
    {
     "data": {
      "text/plain": [
       "0.00030000000000000003"
      ]
     },
     "execution_count": 72,
     "metadata": {},
     "output_type": "execute_result"
    }
   ],
   "source": [
    "deseq2_de_genes_not_sig.mean()"
   ]
  },
  {
   "cell_type": "code",
   "execution_count": 82,
   "metadata": {},
   "outputs": [],
   "source": [
    "from statsmodels.stats.weightstats import ttest_ind\n",
    "\n",
    "ttest_ind(iaf_de_genes_not_sig, mf_de_genes_not_sig, alternative=\"smaller\")"
   ]
  },
  {
   "cell_type": "code",
   "execution_count": 74,
   "metadata": {},
   "outputs": [
    {
     "name": "stdout",
     "output_type": "stream",
     "text": [
      "\\begin{tabular}{ll}\n",
      "\\toprule\n",
      "{} &    Portion \\\\\n",
      "Algorithm &            \\\\\n",
      "\\midrule\n",
      "DESeq2    &    $ 0.0 $ \\\\\n",
      "edgeR     &  $ 0.206 $ \\\\\n",
      "MAST      &  $ 0.194 $ \\\\\n",
      "MF        &  $ 0.011 $ \\\\\n",
      "IAF       &  $ 0.008 $ \\\\\n",
      "\\bottomrule\n",
      "\\end{tabular}\n",
      "\n"
     ]
    }
   ],
   "source": [
    "print(my_df.to_latex(escape=False))"
   ]
  }
 ],
 "metadata": {
  "kernelspec": {
   "display_name": "Environment (conda_scvi)",
   "language": "python",
   "name": "conda_scvi"
  },
  "language_info": {
   "codemirror_mode": {
    "name": "ipython",
    "version": 3
   },
   "file_extension": ".py",
   "mimetype": "text/x-python",
   "name": "python",
   "nbconvert_exporter": "python",
   "pygments_lexer": "ipython3",
   "version": "3.7.3"
  },
  "pycharm": {
   "stem_cell": {
    "cell_type": "raw",
    "metadata": {
     "collapsed": false
    },
    "source": []
   }
  },
  "toc": {
   "base_numbering": 1,
   "nav_menu": {},
   "number_sections": true,
   "sideBar": false,
   "skip_h1_title": false,
   "title_cell": "Table of Contents",
   "title_sidebar": "Contents",
   "toc_cell": false,
   "toc_position": {
    "height": "759px",
    "left": "43.7326px",
    "top": "109.722px",
    "width": "272px"
   },
   "toc_section_display": true,
   "toc_window_display": true
  }
 },
 "nbformat": 4,
 "nbformat_minor": 4
}
